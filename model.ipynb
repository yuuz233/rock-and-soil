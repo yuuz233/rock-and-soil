{
 "cells": [
  {
   "cell_type": "markdown",
   "metadata": {},
   "source": [
    "## Imports\n"
   ]
  },
  {
   "cell_type": "code",
   "execution_count": 2,
   "metadata": {},
   "outputs": [
    {
     "name": "stdout",
     "output_type": "stream",
     "text": [
      "Requirement already satisfied: torch in c:\\users\\olive\\anaconda3\\lib\\site-packages (2.1.0)\n",
      "Requirement already satisfied: filelock in c:\\users\\olive\\anaconda3\\lib\\site-packages (from torch) (3.9.0)\n",
      "Requirement already satisfied: typing-extensions in c:\\users\\olive\\anaconda3\\lib\\site-packages (from torch) (4.7.1)\n",
      "Requirement already satisfied: sympy in c:\\users\\olive\\anaconda3\\lib\\site-packages (from torch) (1.11.1)\n",
      "Requirement already satisfied: networkx in c:\\users\\olive\\anaconda3\\lib\\site-packages (from torch) (3.1)\n",
      "Requirement already satisfied: jinja2 in c:\\users\\olive\\anaconda3\\lib\\site-packages (from torch) (3.1.2)\n",
      "Requirement already satisfied: fsspec in c:\\users\\olive\\anaconda3\\lib\\site-packages (from torch) (2023.3.0)\n",
      "Requirement already satisfied: MarkupSafe>=2.0 in c:\\users\\olive\\anaconda3\\lib\\site-packages (from jinja2->torch) (2.1.1)\n",
      "Requirement already satisfied: mpmath>=0.19 in c:\\users\\olive\\anaconda3\\lib\\site-packages (from sympy->torch) (1.3.0)\n",
      "Requirement already satisfied: torchvision in c:\\users\\olive\\anaconda3\\lib\\site-packages (0.16.0)\n",
      "Requirement already satisfied: numpy in c:\\users\\olive\\anaconda3\\lib\\site-packages (from torchvision) (1.24.3)\n",
      "Requirement already satisfied: requests in c:\\users\\olive\\anaconda3\\lib\\site-packages (from torchvision) (2.31.0)\n",
      "Requirement already satisfied: torch==2.1.0 in c:\\users\\olive\\anaconda3\\lib\\site-packages (from torchvision) (2.1.0)\n",
      "Requirement already satisfied: pillow!=8.3.*,>=5.3.0 in c:\\users\\olive\\anaconda3\\lib\\site-packages (from torchvision) (9.4.0)\n",
      "Requirement already satisfied: filelock in c:\\users\\olive\\anaconda3\\lib\\site-packages (from torch==2.1.0->torchvision) (3.9.0)\n",
      "Requirement already satisfied: typing-extensions in c:\\users\\olive\\anaconda3\\lib\\site-packages (from torch==2.1.0->torchvision) (4.7.1)\n",
      "Requirement already satisfied: sympy in c:\\users\\olive\\anaconda3\\lib\\site-packages (from torch==2.1.0->torchvision) (1.11.1)\n",
      "Requirement already satisfied: networkx in c:\\users\\olive\\anaconda3\\lib\\site-packages (from torch==2.1.0->torchvision) (3.1)\n",
      "Requirement already satisfied: jinja2 in c:\\users\\olive\\anaconda3\\lib\\site-packages (from torch==2.1.0->torchvision) (3.1.2)\n",
      "Requirement already satisfied: fsspec in c:\\users\\olive\\anaconda3\\lib\\site-packages (from torch==2.1.0->torchvision) (2023.3.0)\n",
      "Requirement already satisfied: charset-normalizer<4,>=2 in c:\\users\\olive\\anaconda3\\lib\\site-packages (from requests->torchvision) (2.0.4)\n",
      "Requirement already satisfied: idna<4,>=2.5 in c:\\users\\olive\\anaconda3\\lib\\site-packages (from requests->torchvision) (3.4)\n",
      "Requirement already satisfied: urllib3<3,>=1.21.1 in c:\\users\\olive\\anaconda3\\lib\\site-packages (from requests->torchvision) (1.26.16)\n",
      "Requirement already satisfied: certifi>=2017.4.17 in c:\\users\\olive\\anaconda3\\lib\\site-packages (from requests->torchvision) (2023.7.22)\n",
      "Requirement already satisfied: MarkupSafe>=2.0 in c:\\users\\olive\\anaconda3\\lib\\site-packages (from jinja2->torch==2.1.0->torchvision) (2.1.1)\n",
      "Requirement already satisfied: mpmath>=0.19 in c:\\users\\olive\\anaconda3\\lib\\site-packages (from sympy->torch==2.1.0->torchvision) (1.3.0)\n"
     ]
    }
   ],
   "source": [
    "!conda activate base\n",
    "!pip install torch\n",
    "!pip install torchvision\n"
   ]
  },
  {
   "cell_type": "code",
   "execution_count": 14,
   "metadata": {},
   "outputs": [],
   "source": [
    "import torch\n",
    "import torch.nn as nn\n",
    "from torchvision import datasets, transforms\n",
    "from torch.utils.data import DataLoader, random_split\n",
    "from torch.optim import Adam\n",
    "from torch.nn import CrossEntropyLoss\n",
    "import matplotlib.pyplot as plt"
   ]
  },
  {
   "cell_type": "markdown",
   "metadata": {},
   "source": [
    "## Hyper Parameters"
   ]
  },
  {
   "cell_type": "code",
   "execution_count": 22,
   "metadata": {},
   "outputs": [],
   "source": [
    "batch_size = 16  # Smaller batch size\n",
    "learning_rate = 0.001\n",
    "num_epochs = 30\n",
    "train_split = 0.8  # 80% for training, 20% for testing\n"
   ]
  },
  {
   "cell_type": "markdown",
   "metadata": {},
   "source": [
    "## Data Augmentation"
   ]
  },
  {
   "cell_type": "code",
   "execution_count": 23,
   "metadata": {},
   "outputs": [],
   "source": [
    "# load data and apply initial transform\n",
    "dataset_path = 'Soil Data'\n",
    "dataset = datasets.ImageFolder(root=dataset_path, transform=transforms.ToTensor())\n",
    "\n",
    "# data augmentation\n",
    "augmentation = transforms.Compose([\n",
    "    transforms.Resize((128, 128)),\n",
    "    transforms.RandomHorizontalFlip(),\n",
    "    transforms.RandomRotation(10),\n",
    "    transforms.ColorJitter(0.2, 0.2, 0.2, 0.1),\n",
    "    transforms.ToTensor(),\n",
    "])\n",
    "dataset.transform = augmentation\n",
    "\n",
    "# split dataset\n",
    "train_size = int(train_split * len(dataset))\n",
    "test_size = len(dataset) - train_size\n",
    "train_dataset, test_dataset = random_split(dataset, [train_size, test_size])\n",
    "\n",
    "# create dataloaders\n",
    "train_loader = DataLoader(train_dataset, batch_size=batch_size, shuffle=True)\n",
    "test_loader = DataLoader(test_dataset, batch_size=batch_size, shuffle=False)"
   ]
  },
  {
   "cell_type": "markdown",
   "metadata": {},
   "source": [
    "## Model\n"
   ]
  },
  {
   "cell_type": "code",
   "execution_count": 24,
   "metadata": {},
   "outputs": [],
   "source": [
    "# define CNN model\n",
    "class SandNet(nn.Module):\n",
    "    def __init__(self):\n",
    "        super(SandNet, self).__init__()\n",
    "        self.conv1 = nn.Conv2d(3, 16, 3)\n",
    "        self.conv2 = nn.Conv2d(16, 32, 3)\n",
    "        self.conv3 = nn.Conv2d(32, 64, 3)\n",
    "        self.fc1 = nn.Linear(64 * 14 * 14, 128)\n",
    "        self.fc2 = nn.Linear(128, 5) \n",
    "\n",
    "    def forward(self, x):\n",
    "        x = nn.MaxPool2d(2)(nn.ReLU()(self.conv1(x)))\n",
    "        x = nn.MaxPool2d(2)(nn.ReLU()(self.conv2(x)))\n",
    "        x = nn.MaxPool2d(2)(nn.ReLU()(self.conv3(x)))\n",
    "        x = x.view(-1, 64 * 14 * 14)\n",
    "        x = nn.ReLU()(self.fc1(x))\n",
    "        x = self.fc2(x)\n",
    "        return x\n",
    "\n",
    "# init model and optimizer\n",
    "model = SandNet()\n",
    "optimizer = Adam(model.parameters(), lr=learning_rate)\n",
    "criterion = CrossEntropyLoss()"
   ]
  },
  {
   "cell_type": "markdown",
   "metadata": {},
   "source": [
    "## Train model\n"
   ]
  },
  {
   "cell_type": "code",
   "execution_count": 25,
   "metadata": {},
   "outputs": [
    {
     "name": "stdout",
     "output_type": "stream",
     "text": [
      "Epoch 1 - Loss: 1.2502, Accuracy: 53.82%\n",
      "Epoch 2 - Loss: 1.1035, Accuracy: 57.80%\n",
      "Epoch 3 - Loss: 0.9474, Accuracy: 62.08%\n",
      "Epoch 4 - Loss: 0.8827, Accuracy: 65.44%\n",
      "Epoch 5 - Loss: 0.8119, Accuracy: 61.77%\n",
      "Epoch 6 - Loss: 0.7238, Accuracy: 67.28%\n",
      "Epoch 7 - Loss: 0.7365, Accuracy: 73.70%\n",
      "Epoch 8 - Loss: 0.7779, Accuracy: 68.81%\n",
      "Epoch 9 - Loss: 0.7003, Accuracy: 71.25%\n",
      "Epoch 10 - Loss: 0.6497, Accuracy: 72.48%\n",
      "Epoch 11 - Loss: 0.6442, Accuracy: 77.68%\n",
      "Epoch 12 - Loss: 0.6203, Accuracy: 72.17%\n",
      "Epoch 13 - Loss: 0.5428, Accuracy: 80.73%\n",
      "Epoch 14 - Loss: 0.5566, Accuracy: 79.51%\n",
      "Epoch 15 - Loss: 0.5137, Accuracy: 80.73%\n",
      "Epoch 16 - Loss: 0.5285, Accuracy: 78.90%\n",
      "Epoch 17 - Loss: 0.4811, Accuracy: 85.63%\n",
      "Epoch 18 - Loss: 0.4353, Accuracy: 85.02%\n",
      "Epoch 19 - Loss: 0.3659, Accuracy: 86.54%\n",
      "Epoch 20 - Loss: 0.4031, Accuracy: 85.93%\n",
      "Epoch 21 - Loss: 0.3984, Accuracy: 83.79%\n",
      "Epoch 22 - Loss: 0.4138, Accuracy: 84.71%\n",
      "Epoch 23 - Loss: 0.3831, Accuracy: 89.60%\n",
      "Epoch 24 - Loss: 0.4331, Accuracy: 85.02%\n",
      "Epoch 25 - Loss: 0.3538, Accuracy: 86.85%\n",
      "Epoch 26 - Loss: 0.3665, Accuracy: 86.54%\n",
      "Epoch 27 - Loss: 0.3078, Accuracy: 89.30%\n",
      "Epoch 28 - Loss: 0.2591, Accuracy: 92.35%\n",
      "Epoch 29 - Loss: 0.2584, Accuracy: 90.52%\n",
      "Epoch 30 - Loss: 0.2810, Accuracy: 88.38%\n"
     ]
    }
   ],
   "source": [
    "\n",
    "epoch_losses = []\n",
    "epoch_accuracies = []\n",
    "\n",
    "# train model\n",
    "for epoch in range(num_epochs):\n",
    "    running_loss = 0.0  \n",
    "    correct, total = 0,0\n",
    "\n",
    "    for i, (inputs, labels) in enumerate(train_loader):\n",
    "        optimizer.zero_grad()\n",
    "        outputs = model(inputs)\n",
    "        loss = criterion(outputs, labels)\n",
    "        loss.backward()\n",
    "        optimizer.step()\n",
    "        \n",
    "        # accumulate running loss\n",
    "        running_loss += loss.item()\n",
    "        \n",
    "        # accumulate correct predictions for accuracy\n",
    "        _, predicted = torch.max(outputs, 1)\n",
    "        total += labels.size(0)\n",
    "        correct += (predicted == labels).sum().item()\n",
    "\n",
    "    # calculate and store average loss and accuracy for the epoch\n",
    "    epoch_loss = running_loss / len(train_loader)\n",
    "    epoch_accuracy = 100 * correct / total\n",
    "    \n",
    "    epoch_losses.append(epoch_loss)\n",
    "    epoch_accuracies.append(epoch_accuracy)\n",
    "    \n",
    "    print(f\"Epoch {epoch+1} - Loss: {epoch_loss:.4f}, Accuracy: {epoch_accuracy:.2f}%\")\n",
    "\n",
    "\n"
   ]
  },
  {
   "cell_type": "markdown",
   "metadata": {},
   "source": [
    "## Plot "
   ]
  },
  {
   "cell_type": "code",
   "execution_count": 26,
   "metadata": {},
   "outputs": [
    {
     "data": {
      "image/png": "[encoded data removed]",
      "text/plain": [
       "<Figure size 640x480 with 2 Axes>"
      ]
     },
     "metadata": {},
     "output_type": "display_data"
    }
   ],
   "source": [
    "# Plotting\n",
    "fig, ax1 = plt.subplots()\n",
    "\n",
    "color = 'tab:red'\n",
    "ax1.set_xlabel('Epoch')\n",
    "ax1.set_ylabel('Loss', color=color)\n",
    "ax1.plot(epoch_losses, color=color)\n",
    "ax1.tick_params(axis='y', labelcolor=color)\n",
    "\n",
    "ax2 = ax1.twinx()\n",
    "color = 'tab:blue'\n",
    "ax2.set_ylabel('Accuracy (%)', color=color)\n",
    "ax2.plot(epoch_accuracies, color=color)\n",
    "ax2.tick_params(axis='y', labelcolor=color)\n",
    "\n",
    "fig.tight_layout()\n",
    "plt.title('Training Loss and Accuracy per Epoch')\n",
    "plt.show()"
   ]
  },
  {
   "cell_type": "markdown",
   "metadata": {},
   "source": [
    "## Eval model"
   ]
  },
  {
   "cell_type": "code",
   "execution_count": 27,
   "metadata": {},
   "outputs": [
    {
     "name": "stdout",
     "output_type": "stream",
     "text": [
      "Training accuracy: 92.66055045871559%\n",
      "Testing accuracy: 87.8048780487805%\n"
     ]
    }
   ],
   "source": [
    "# evaluate model\n",
    "def evaluate(loader):\n",
    "    correct, total = 0, 0\n",
    "    with torch.no_grad():\n",
    "        for images, labels in loader:\n",
    "            outputs = model(images)\n",
    "            _, predicted = torch.max(outputs, 1)\n",
    "            total += labels.size(0)\n",
    "            correct += (predicted == labels).sum().item()\n",
    "    return 100 * correct / total\n",
    "\n",
    "# print results\n",
    "print(f\"Training accuracy: {evaluate(train_loader)}%\")\n",
    "print(f\"Testing accuracy: {evaluate(test_loader)}%\")"
   ]
  },
  {
   "cell_type": "code",
   "execution_count": 30,
   "metadata": {},
   "outputs": [],
   "source": [
    "# Average soil compositions for each class in terms of\n",
    "#        [sand, silt, clay]\n",
    "soil_compositions = {\n",
    "    \"clay\": [0, 0, 100],\n",
    "    \"silt\": [0, 100, 0],\n",
    "    \"sand\": [100, 0, 0],\n",
    "    \"silt loam\": [0, 70, 30],\n",
    "    \"sandy loam\": [70, 0, 30],\n",
    "    \"loam\": [40, 40, 20],\n",
    "    \"sandy clay\": [45, 0, 55],\n",
    "    \"silty clay\": [0, 45, 55],\n",
    "    \"sandy clay loam\": [58, 10, 32],\n",
    "    \"silty clay loam\": [10, 58, 32]\n",
    "}\n",
    "\n",
    "softmax = nn.Softmax(dim=1)\n",
    "probabilities = softmax(outputs) \n"
   ]
  },
  {
   "cell_type": "code",
   "execution_count": 31,
   "metadata": {},
   "outputs": [
    {
     "ename": "IndexError",
     "evalue": "index 5 is out of bounds for axis 0 with size 5",
     "output_type": "error",
     "traceback": [
      "\u001b[1;31m---------------------------------------------------------------------------\u001b[0m",
      "\u001b[1;31mIndexError\u001b[0m                                Traceback (most recent call last)",
      "\u001b[1;32mc:\\Users\\olive\\OneDrive\\Documents\\Deep Learning Stuff\\Soil Classification\\model.ipynb Cell 17\u001b[0m line \u001b[0;36m1\n\u001b[0;32m      <a href='vscode-notebook-cell:/c%3A/Users/olive/OneDrive/Documents/Deep%20Learning%20Stuff/Soil%20Classification/model.ipynb#X24sZmlsZQ%3D%3D?line=8'>9</a>\u001b[0m             avg_composition[j] \u001b[39m+\u001b[39m\u001b[39m=\u001b[39m probabilities[\u001b[39m0\u001b[39m][i] \u001b[39m*\u001b[39m soil_compositions[soil_type][j]\n\u001b[0;32m     <a href='vscode-notebook-cell:/c%3A/Users/olive/OneDrive/Documents/Deep%20Learning%20Stuff/Soil%20Classification/model.ipynb#X24sZmlsZQ%3D%3D?line=10'>11</a>\u001b[0m     \u001b[39mreturn\u001b[39;00m avg_composition\n\u001b[1;32m---> <a href='vscode-notebook-cell:/c%3A/Users/olive/OneDrive/Documents/Deep%20Learning%20Stuff/Soil%20Classification/model.ipynb#X24sZmlsZQ%3D%3D?line=12'>13</a>\u001b[0m predicted_compositions \u001b[39m=\u001b[39m predict_composition(outputs)\n\u001b[0;32m     <a href='vscode-notebook-cell:/c%3A/Users/olive/OneDrive/Documents/Deep%20Learning%20Stuff/Soil%20Classification/model.ipynb#X24sZmlsZQ%3D%3D?line=13'>14</a>\u001b[0m \u001b[39mprint\u001b[39m(\u001b[39mf\u001b[39m\u001b[39m\"\u001b[39m\u001b[39mPredicted composition: Sand: \u001b[39m\u001b[39m{\u001b[39;00mpredicted_compositions[\u001b[39m0\u001b[39m]\u001b[39m}\u001b[39;00m\u001b[39m%, Silt: \u001b[39m\u001b[39m{\u001b[39;00mpredicted_compositions[\u001b[39m1\u001b[39m]\u001b[39m}\u001b[39;00m\u001b[39m%, Clay: \u001b[39m\u001b[39m{\u001b[39;00mpredicted_compositions[\u001b[39m2\u001b[39m]\u001b[39m}\u001b[39;00m\u001b[39m%\u001b[39m\u001b[39m\"\u001b[39m)\n",
      "\u001b[1;32mc:\\Users\\olive\\OneDrive\\Documents\\Deep Learning Stuff\\Soil Classification\\model.ipynb Cell 17\u001b[0m line \u001b[0;36m9\n\u001b[0;32m      <a href='vscode-notebook-cell:/c%3A/Users/olive/OneDrive/Documents/Deep%20Learning%20Stuff/Soil%20Classification/model.ipynb#X24sZmlsZQ%3D%3D?line=6'>7</a>\u001b[0m \u001b[39mfor\u001b[39;00m i, soil_type \u001b[39min\u001b[39;00m \u001b[39menumerate\u001b[39m(soil_compositions\u001b[39m.\u001b[39mkeys()):\n\u001b[0;32m      <a href='vscode-notebook-cell:/c%3A/Users/olive/OneDrive/Documents/Deep%20Learning%20Stuff/Soil%20Classification/model.ipynb#X24sZmlsZQ%3D%3D?line=7'>8</a>\u001b[0m     \u001b[39mfor\u001b[39;00m j \u001b[39min\u001b[39;00m \u001b[39mrange\u001b[39m(\u001b[39m3\u001b[39m):\n\u001b[1;32m----> <a href='vscode-notebook-cell:/c%3A/Users/olive/OneDrive/Documents/Deep%20Learning%20Stuff/Soil%20Classification/model.ipynb#X24sZmlsZQ%3D%3D?line=8'>9</a>\u001b[0m         avg_composition[j] \u001b[39m+\u001b[39m\u001b[39m=\u001b[39m probabilities[\u001b[39m0\u001b[39m][i] \u001b[39m*\u001b[39m soil_compositions[soil_type][j]\n\u001b[0;32m     <a href='vscode-notebook-cell:/c%3A/Users/olive/OneDrive/Documents/Deep%20Learning%20Stuff/Soil%20Classification/model.ipynb#X24sZmlsZQ%3D%3D?line=10'>11</a>\u001b[0m \u001b[39mreturn\u001b[39;00m avg_composition\n",
      "\u001b[1;31mIndexError\u001b[0m: index 5 is out of bounds for axis 0 with size 5"
     ]
    }
   ],
   "source": [
    "def predict_composition(outputs):\n",
    "    # Get softmax probabilities\n",
    "    probabilities = softmax(outputs).detach().numpy()\n",
    "    \n",
    "    # Calculate average soil composition based on model predictions\n",
    "    avg_composition = [0, 0, 0]  # [sand, silt, clay]\n",
    "    for i, soil_type in enumerate(soil_compositions.keys()):\n",
    "        for j in range(3):\n",
    "            avg_composition[j] += probabilities[0][i] * soil_compositions[soil_type][j]\n",
    "            \n",
    "    return avg_composition\n",
    "\n",
    "predicted_compositions = predict_composition(outputs)\n",
    "print(f\"Predicted composition: Sand: {predicted_compositions[0]}%, Silt: {predicted_compositions[1]}%, Clay: {predicted_compositions[2]}%\")\n"
   ]
  }
 ],
 "metadata": {
  "kernelspec": {
   "display_name": "Python 3",
   "language": "python",
   "name": "python3"
  },
  "language_info": {
   "codemirror_mode": {
    "name": "ipython",
    "version": 3
   },
   "file_extension": ".py",
   "mimetype": "text/x-python",
   "name": "python",
   "nbconvert_exporter": "python",
   "pygments_lexer": "ipython3",
   "version": "3.11.4"
  }
 },
 "nbformat": 4,
 "nbformat_minor": 2
}
